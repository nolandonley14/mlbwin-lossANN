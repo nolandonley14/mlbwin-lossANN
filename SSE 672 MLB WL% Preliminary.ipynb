{
 "cells": [
  {
   "cell_type": "code",
   "execution_count": 1,
   "metadata": {},
   "outputs": [
    {
     "data": {
      "text/html": [
       "<style>.container { width:75% !important; }</style>"
      ],
      "text/plain": [
       "<IPython.core.display.HTML object>"
      ]
     },
     "metadata": {},
     "output_type": "display_data"
    }
   ],
   "source": [
    "from IPython.display import display, HTML\n",
    "display(HTML(\"<style>.container { width:75% !important; }</style>\"))"
   ]
  },
  {
   "cell_type": "code",
   "execution_count": 2,
   "metadata": {},
   "outputs": [],
   "source": [
    "#imports\n",
    "from keras.callbacks import ModelCheckpoint\n",
    "from keras.models import Sequential\n",
    "from keras.layers import Dense, Activation, Flatten\n",
    "from sklearn.model_selection import train_test_split\n",
    "from sklearn.ensemble import RandomForestRegressor\n",
    "from sklearn.metrics import mean_absolute_error, mean_squared_error\n",
    "from matplotlib import pyplot as plt\n",
    "import seaborn as sb\n",
    "import pandas as pd\n",
    "import numpy as np\n",
    "import warnings "
   ]
  },
  {
   "cell_type": "code",
   "execution_count": 3,
   "metadata": {},
   "outputs": [],
   "source": [
    "droppedRows = [2027, 2240, 2242, 2284]\n",
    "droppedColumns = [\"G_value_batting\", \"RA9def_value_pitching\"]"
   ]
  },
  {
   "cell_type": "code",
   "execution_count": 4,
   "metadata": {},
   "outputs": [],
   "source": [
    "#read in data\n",
    "data = pd.read_csv(\"teamData.csv\", sep=\",\")\n",
    "data = data.drop(droppedColumns, 1)\n",
    "data = data.drop(droppedRows, 0)\n",
    "X = np.array(data.drop(['W_L'], 1))\n",
    "Y = np.array(data['W_L'])\n",
    "#split data\n",
    "X_train, X_test, y_train, y_test = train_test_split(X, Y, test_size=0.2)"
   ]
  },
  {
   "cell_type": "code",
   "execution_count": 5,
   "metadata": {},
   "outputs": [],
   "source": [
    "model = Sequential()\n",
    "# Input Layer\n",
    "model.add(Dense(128, kernel_initializer='normal', input_dim=X_train.shape[1], activation='relu'))\n",
    "\n",
    "# The Hidden Layers :\n",
    "model.add(Dense(256, kernel_initializer='normal',activation='relu'))\n",
    "model.add(Dense(256, kernel_initializer='normal',activation='relu'))\n",
    "# The Output Layer :\n",
    "model.add(Dense(1, kernel_initializer='normal',activation='linear'))\n",
    "\n",
    "# Compile the network :\n",
    "model.compile(loss='mean_squared_error', optimizer='adam', metrics=['mean_squared_error'])"
   ]
  },
  {
   "cell_type": "code",
   "execution_count": 6,
   "metadata": {},
   "outputs": [],
   "source": [
    "checkpoint_name = 'bestWeigthsPrelim.hdf5' \n",
    "checkpoint = ModelCheckpoint(checkpoint_name, monitor='val_loss', verbose = 1, save_best_only = True, mode ='auto')\n",
    "callbacks_list = [checkpoint]"
   ]
  },
  {
   "cell_type": "code",
   "execution_count": 7,
   "metadata": {},
   "outputs": [
    {
     "name": "stdout",
     "output_type": "stream",
     "text": [
      "Epoch 1/50\n",
      "28/28 [==============================] - ETA: 0s - loss: 973.6367 - mean_squared_error: 973.6367    \n",
      "Epoch 1: val_loss improved from inf to 36.75128, saving model to bestWeigthsPrelim.hdf5\n",
      "28/28 [==============================] - 9s 75ms/step - loss: 973.6367 - mean_squared_error: 973.6367 - val_loss: 36.7513 - val_mean_squared_error: 36.7513\n",
      "Epoch 2/50\n",
      " 1/28 [>.............................] - ETA: 0s - loss: 37.2485 - mean_squared_error: 37.2485\n",
      "Epoch 2: val_loss improved from 36.75128 to 2.05084, saving model to bestWeigthsPrelim.hdf5\n",
      "28/28 [==============================] - 0s 4ms/step - loss: 16.1372 - mean_squared_error: 16.1372 - val_loss: 2.0508 - val_mean_squared_error: 2.0508\n",
      "Epoch 3/50\n",
      "28/28 [==============================] - ETA: 0s - loss: 0.7818 - mean_squared_error: 0.7818\n",
      "Epoch 3: val_loss improved from 2.05084 to 0.34867, saving model to bestWeigthsPrelim.hdf5\n",
      "28/28 [==============================] - 0s 4ms/step - loss: 0.7818 - mean_squared_error: 0.7818 - val_loss: 0.3487 - val_mean_squared_error: 0.3487\n",
      "Epoch 4/50\n",
      "28/28 [==============================] - ETA: 0s - loss: 0.2204 - mean_squared_error: 0.2204\n",
      "Epoch 4: val_loss improved from 0.34867 to 0.10502, saving model to bestWeigthsPrelim.hdf5\n",
      "28/28 [==============================] - 0s 4ms/step - loss: 0.2204 - mean_squared_error: 0.2204 - val_loss: 0.1050 - val_mean_squared_error: 0.1050\n",
      "Epoch 5/50\n",
      "15/28 [===============>..............] - ETA: 0s - loss: 0.1026 - mean_squared_error: 0.1026\n",
      "Epoch 5: val_loss improved from 0.10502 to 0.03477, saving model to bestWeigthsPrelim.hdf5\n",
      "28/28 [==============================] - 0s 6ms/step - loss: 0.0823 - mean_squared_error: 0.0823 - val_loss: 0.0348 - val_mean_squared_error: 0.0348\n",
      "Epoch 6/50\n",
      "20/28 [====================>.........] - ETA: 0s - loss: 0.0338 - mean_squared_error: 0.0338\n",
      "Epoch 6: val_loss improved from 0.03477 to 0.02754, saving model to bestWeigthsPrelim.hdf5\n",
      "28/28 [==============================] - 0s 5ms/step - loss: 0.0349 - mean_squared_error: 0.0349 - val_loss: 0.0275 - val_mean_squared_error: 0.0275\n",
      "Epoch 7/50\n",
      "24/28 [========================>.....] - ETA: 0s - loss: 0.0273 - mean_squared_error: 0.0273\n",
      "Epoch 7: val_loss improved from 0.02754 to 0.02634, saving model to bestWeigthsPrelim.hdf5\n",
      "28/28 [==============================] - 0s 4ms/step - loss: 0.0278 - mean_squared_error: 0.0278 - val_loss: 0.0263 - val_mean_squared_error: 0.0263\n",
      "Epoch 8/50\n",
      " 1/28 [>.............................] - ETA: 0s - loss: 0.0248 - mean_squared_error: 0.0248\n",
      "Epoch 8: val_loss improved from 0.02634 to 0.02133, saving model to bestWeigthsPrelim.hdf5\n",
      "28/28 [==============================] - 0s 4ms/step - loss: 0.0242 - mean_squared_error: 0.0242 - val_loss: 0.0213 - val_mean_squared_error: 0.0213\n",
      "Epoch 9/50\n",
      " 1/28 [>.............................] - ETA: 0s - loss: 0.0257 - mean_squared_error: 0.0257\n",
      "Epoch 9: val_loss did not improve from 0.02133\n",
      "28/28 [==============================] - 0s 2ms/step - loss: 0.0210 - mean_squared_error: 0.0210 - val_loss: 0.0295 - val_mean_squared_error: 0.0295\n",
      "Epoch 10/50\n",
      "26/28 [==========================>...] - ETA: 0s - loss: 0.0261 - mean_squared_error: 0.0261\n",
      "Epoch 10: val_loss did not improve from 0.02133\n",
      "28/28 [==============================] - 0s 3ms/step - loss: 0.0256 - mean_squared_error: 0.0256 - val_loss: 0.0251 - val_mean_squared_error: 0.0251\n",
      "Epoch 11/50\n",
      "16/28 [================>.............] - ETA: 0s - loss: 0.0190 - mean_squared_error: 0.0190\n",
      "Epoch 11: val_loss improved from 0.02133 to 0.01537, saving model to bestWeigthsPrelim.hdf5\n",
      "28/28 [==============================] - 0s 4ms/step - loss: 0.0179 - mean_squared_error: 0.0179 - val_loss: 0.0154 - val_mean_squared_error: 0.0154\n",
      "Epoch 12/50\n",
      " 1/28 [>.............................] - ETA: 0s - loss: 0.0188 - mean_squared_error: 0.0188\n",
      "Epoch 12: val_loss improved from 0.01537 to 0.01390, saving model to bestWeigthsPrelim.hdf5\n",
      "28/28 [==============================] - 0s 3ms/step - loss: 0.0145 - mean_squared_error: 0.0145 - val_loss: 0.0139 - val_mean_squared_error: 0.0139\n",
      "Epoch 13/50\n",
      "27/28 [===========================>..] - ETA: 0s - loss: 0.0152 - mean_squared_error: 0.0152\n",
      "Epoch 13: val_loss improved from 0.01390 to 0.01348, saving model to bestWeigthsPrelim.hdf5\n",
      "28/28 [==============================] - 0s 4ms/step - loss: 0.0151 - mean_squared_error: 0.0151 - val_loss: 0.0135 - val_mean_squared_error: 0.0135\n",
      "Epoch 14/50\n",
      " 1/28 [>.............................] - ETA: 0s - loss: 0.0143 - mean_squared_error: 0.0143\n",
      "Epoch 14: val_loss did not improve from 0.01348\n",
      "28/28 [==============================] - 0s 3ms/step - loss: 0.0658 - mean_squared_error: 0.0658 - val_loss: 0.3084 - val_mean_squared_error: 0.3084\n",
      "Epoch 15/50\n",
      "24/28 [========================>.....] - ETA: 0s - loss: 0.1325 - mean_squared_error: 0.1325\n",
      "Epoch 15: val_loss did not improve from 0.01348\n",
      "28/28 [==============================] - 0s 3ms/step - loss: 0.1191 - mean_squared_error: 0.1191 - val_loss: 0.0187 - val_mean_squared_error: 0.0187\n",
      "Epoch 16/50\n",
      "27/28 [===========================>..] - ETA: 0s - loss: 0.0173 - mean_squared_error: 0.0173\n",
      "Epoch 16: val_loss improved from 0.01348 to 0.01261, saving model to bestWeigthsPrelim.hdf5\n",
      "28/28 [==============================] - 0s 4ms/step - loss: 0.0172 - mean_squared_error: 0.0172 - val_loss: 0.0126 - val_mean_squared_error: 0.0126\n",
      "Epoch 17/50\n",
      " 1/28 [>.............................] - ETA: 0s - loss: 0.0116 - mean_squared_error: 0.0116\n",
      "Epoch 17: val_loss improved from 0.01261 to 0.01056, saving model to bestWeigthsPrelim.hdf5\n",
      "28/28 [==============================] - 0s 3ms/step - loss: 0.0121 - mean_squared_error: 0.0121 - val_loss: 0.0106 - val_mean_squared_error: 0.0106\n",
      "Epoch 18/50\n",
      " 1/28 [>.............................] - ETA: 0s - loss: 0.0104 - mean_squared_error: 0.0104\n",
      "Epoch 18: val_loss improved from 0.01056 to 0.00990, saving model to bestWeigthsPrelim.hdf5\n",
      "28/28 [==============================] - 0s 3ms/step - loss: 0.0106 - mean_squared_error: 0.0106 - val_loss: 0.0099 - val_mean_squared_error: 0.0099\n",
      "Epoch 19/50\n",
      " 1/28 [>.............................] - ETA: 0s - loss: 0.0093 - mean_squared_error: 0.0093\n",
      "Epoch 19: val_loss did not improve from 0.00990\n",
      "28/28 [==============================] - 0s 3ms/step - loss: 0.0099 - mean_squared_error: 0.0099 - val_loss: 0.0102 - val_mean_squared_error: 0.0102\n",
      "Epoch 20/50\n",
      "28/28 [==============================] - ETA: 0s - loss: 0.0105 - mean_squared_error: 0.0105\n",
      "Epoch 20: val_loss did not improve from 0.00990\n",
      "28/28 [==============================] - 0s 3ms/step - loss: 0.0105 - mean_squared_error: 0.0105 - val_loss: 0.0118 - val_mean_squared_error: 0.0118\n",
      "Epoch 21/50\n",
      "23/28 [=======================>......] - ETA: 0s - loss: 0.0107 - mean_squared_error: 0.0107\n",
      "Epoch 21: val_loss improved from 0.00990 to 0.00879, saving model to bestWeigthsPrelim.hdf5\n",
      "28/28 [==============================] - 0s 4ms/step - loss: 0.0108 - mean_squared_error: 0.0108 - val_loss: 0.0088 - val_mean_squared_error: 0.0088\n",
      "Epoch 22/50\n",
      " 1/28 [>.............................] - ETA: 0s - loss: 0.0089 - mean_squared_error: 0.0089\n",
      "Epoch 22: val_loss did not improve from 0.00879\n",
      "28/28 [==============================] - 0s 3ms/step - loss: 0.0083 - mean_squared_error: 0.0083 - val_loss: 0.0094 - val_mean_squared_error: 0.0094\n",
      "Epoch 23/50\n",
      " 1/28 [>.............................] - ETA: 0s - loss: 0.0084 - mean_squared_error: 0.0084\n",
      "Epoch 23: val_loss did not improve from 0.00879\n",
      "28/28 [==============================] - 0s 3ms/step - loss: 0.0095 - mean_squared_error: 0.0095 - val_loss: 0.0093 - val_mean_squared_error: 0.0093\n",
      "Epoch 24/50\n",
      " 1/28 [>.............................] - ETA: 0s - loss: 0.0084 - mean_squared_error: 0.0084\n",
      "Epoch 24: val_loss improved from 0.00879 to 0.00841, saving model to bestWeigthsPrelim.hdf5\n",
      "28/28 [==============================] - 0s 3ms/step - loss: 0.0095 - mean_squared_error: 0.0095 - val_loss: 0.0084 - val_mean_squared_error: 0.0084\n",
      "Epoch 25/50\n",
      " 1/28 [>.............................] - ETA: 0s - loss: 0.0060 - mean_squared_error: 0.0060\n",
      "Epoch 25: val_loss improved from 0.00841 to 0.00767, saving model to bestWeigthsPrelim.hdf5\n",
      "28/28 [==============================] - 0s 6ms/step - loss: 0.0088 - mean_squared_error: 0.0088 - val_loss: 0.0077 - val_mean_squared_error: 0.0077\n"
     ]
    },
    {
     "name": "stdout",
     "output_type": "stream",
     "text": [
      "Epoch 26/50\n",
      "27/28 [===========================>..] - ETA: 0s - loss: 0.0081 - mean_squared_error: 0.0081\n",
      "Epoch 26: val_loss did not improve from 0.00767\n",
      "28/28 [==============================] - 0s 3ms/step - loss: 0.0081 - mean_squared_error: 0.0081 - val_loss: 0.0093 - val_mean_squared_error: 0.0093\n",
      "Epoch 27/50\n",
      " 1/28 [>.............................] - ETA: 0s - loss: 0.0081 - mean_squared_error: 0.0081\n",
      "Epoch 27: val_loss did not improve from 0.00767\n",
      "28/28 [==============================] - 0s 2ms/step - loss: 0.0080 - mean_squared_error: 0.0080 - val_loss: 0.0077 - val_mean_squared_error: 0.0077\n",
      "Epoch 28/50\n",
      " 1/28 [>.............................] - ETA: 0s - loss: 0.0066 - mean_squared_error: 0.0066\n",
      "Epoch 28: val_loss did not improve from 0.00767\n",
      "28/28 [==============================] - 0s 2ms/step - loss: 0.0077 - mean_squared_error: 0.0077 - val_loss: 0.0077 - val_mean_squared_error: 0.0077\n",
      "Epoch 29/50\n",
      " 1/28 [>.............................] - ETA: 0s - loss: 0.0068 - mean_squared_error: 0.0068\n",
      "Epoch 29: val_loss did not improve from 0.00767\n",
      "28/28 [==============================] - 0s 2ms/step - loss: 0.0078 - mean_squared_error: 0.0078 - val_loss: 0.0082 - val_mean_squared_error: 0.0082\n",
      "Epoch 30/50\n",
      " 1/28 [>.............................] - ETA: 0s - loss: 0.0071 - mean_squared_error: 0.0071\n",
      "Epoch 30: val_loss did not improve from 0.00767\n",
      "28/28 [==============================] - 0s 2ms/step - loss: 0.0091 - mean_squared_error: 0.0091 - val_loss: 0.0094 - val_mean_squared_error: 0.0094\n",
      "Epoch 31/50\n",
      " 1/28 [>.............................] - ETA: 0s - loss: 0.0079 - mean_squared_error: 0.0079\n",
      "Epoch 31: val_loss improved from 0.00767 to 0.00649, saving model to bestWeigthsPrelim.hdf5\n",
      "28/28 [==============================] - 0s 3ms/step - loss: 0.0064 - mean_squared_error: 0.0064 - val_loss: 0.0065 - val_mean_squared_error: 0.0065\n",
      "Epoch 32/50\n",
      " 1/28 [>.............................] - ETA: 0s - loss: 0.0052 - mean_squared_error: 0.0052\n",
      "Epoch 32: val_loss did not improve from 0.00649\n",
      "28/28 [==============================] - 0s 2ms/step - loss: 0.0061 - mean_squared_error: 0.0061 - val_loss: 0.0067 - val_mean_squared_error: 0.0067\n",
      "Epoch 33/50\n",
      " 1/28 [>.............................] - ETA: 0s - loss: 0.0056 - mean_squared_error: 0.0056\n",
      "Epoch 33: val_loss did not improve from 0.00649\n",
      "28/28 [==============================] - 0s 2ms/step - loss: 0.0059 - mean_squared_error: 0.0059 - val_loss: 0.0066 - val_mean_squared_error: 0.0066\n",
      "Epoch 34/50\n",
      " 1/28 [>.............................] - ETA: 0s - loss: 0.0066 - mean_squared_error: 0.0066\n",
      "Epoch 34: val_loss did not improve from 0.00649\n",
      "28/28 [==============================] - 0s 2ms/step - loss: 0.0068 - mean_squared_error: 0.0068 - val_loss: 0.0117 - val_mean_squared_error: 0.0117\n",
      "Epoch 35/50\n",
      " 1/28 [>.............................] - ETA: 0s - loss: 0.0098 - mean_squared_error: 0.0098\n",
      "Epoch 35: val_loss improved from 0.00649 to 0.00610, saving model to bestWeigthsPrelim.hdf5\n",
      "28/28 [==============================] - 0s 3ms/step - loss: 0.0060 - mean_squared_error: 0.0060 - val_loss: 0.0061 - val_mean_squared_error: 0.0061\n",
      "Epoch 36/50\n",
      "20/28 [====================>.........] - ETA: 0s - loss: 0.0069 - mean_squared_error: 0.0069\n",
      "Epoch 36: val_loss did not improve from 0.00610\n",
      "28/28 [==============================] - 0s 4ms/step - loss: 0.0071 - mean_squared_error: 0.0071 - val_loss: 0.0086 - val_mean_squared_error: 0.0086\n",
      "Epoch 37/50\n",
      " 1/28 [>.............................] - ETA: 0s - loss: 0.0075 - mean_squared_error: 0.0075\n",
      "Epoch 37: val_loss did not improve from 0.00610\n",
      "28/28 [==============================] - 0s 2ms/step - loss: 0.0064 - mean_squared_error: 0.0064 - val_loss: 0.0063 - val_mean_squared_error: 0.0063\n",
      "Epoch 38/50\n",
      " 1/28 [>.............................] - ETA: 0s - loss: 0.0067 - mean_squared_error: 0.0067\n",
      "Epoch 38: val_loss improved from 0.00610 to 0.00593, saving model to bestWeigthsPrelim.hdf5\n",
      "28/28 [==============================] - 0s 4ms/step - loss: 0.0058 - mean_squared_error: 0.0058 - val_loss: 0.0059 - val_mean_squared_error: 0.0059\n",
      "Epoch 39/50\n",
      " 1/28 [>.............................] - ETA: 0s - loss: 0.0055 - mean_squared_error: 0.0055\n",
      "Epoch 39: val_loss improved from 0.00593 to 0.00578, saving model to bestWeigthsPrelim.hdf5\n",
      "28/28 [==============================] - 0s 3ms/step - loss: 0.0057 - mean_squared_error: 0.0057 - val_loss: 0.0058 - val_mean_squared_error: 0.0058\n",
      "Epoch 40/50\n",
      " 1/28 [>.............................] - ETA: 0s - loss: 0.0056 - mean_squared_error: 0.0056\n",
      "Epoch 40: val_loss did not improve from 0.00578\n",
      "28/28 [==============================] - 0s 2ms/step - loss: 0.0065 - mean_squared_error: 0.0065 - val_loss: 0.0067 - val_mean_squared_error: 0.0067\n",
      "Epoch 41/50\n",
      " 1/28 [>.............................] - ETA: 0s - loss: 0.0053 - mean_squared_error: 0.0053\n",
      "Epoch 41: val_loss did not improve from 0.00578\n",
      "28/28 [==============================] - 0s 3ms/step - loss: 0.0071 - mean_squared_error: 0.0071 - val_loss: 0.0081 - val_mean_squared_error: 0.0081\n",
      "Epoch 42/50\n",
      " 1/28 [>.............................] - ETA: 0s - loss: 0.0090 - mean_squared_error: 0.0090\n",
      "Epoch 42: val_loss improved from 0.00578 to 0.00553, saving model to bestWeigthsPrelim.hdf5\n",
      "28/28 [==============================] - 0s 3ms/step - loss: 0.0060 - mean_squared_error: 0.0060 - val_loss: 0.0055 - val_mean_squared_error: 0.0055\n",
      "Epoch 43/50\n",
      "27/28 [===========================>..] - ETA: 0s - loss: 0.0050 - mean_squared_error: 0.0050\n",
      "Epoch 43: val_loss improved from 0.00553 to 0.00549, saving model to bestWeigthsPrelim.hdf5\n",
      "28/28 [==============================] - 0s 4ms/step - loss: 0.0051 - mean_squared_error: 0.0051 - val_loss: 0.0055 - val_mean_squared_error: 0.0055\n",
      "Epoch 44/50\n",
      " 1/28 [>.............................] - ETA: 0s - loss: 0.0043 - mean_squared_error: 0.0043\n",
      "Epoch 44: val_loss did not improve from 0.00549\n",
      "28/28 [==============================] - 0s 3ms/step - loss: 0.0069 - mean_squared_error: 0.0069 - val_loss: 0.0091 - val_mean_squared_error: 0.0091\n",
      "Epoch 45/50\n",
      "28/28 [==============================] - ETA: 0s - loss: 0.0058 - mean_squared_error: 0.0058\n",
      "Epoch 45: val_loss improved from 0.00549 to 0.00537, saving model to bestWeigthsPrelim.hdf5\n",
      "28/28 [==============================] - 0s 4ms/step - loss: 0.0058 - mean_squared_error: 0.0058 - val_loss: 0.0054 - val_mean_squared_error: 0.0054\n",
      "Epoch 46/50\n",
      " 1/28 [>.............................] - ETA: 0s - loss: 0.0054 - mean_squared_error: 0.0054\n",
      "Epoch 46: val_loss did not improve from 0.00537\n",
      "28/28 [==============================] - 0s 2ms/step - loss: 0.0063 - mean_squared_error: 0.0063 - val_loss: 0.0056 - val_mean_squared_error: 0.0056\n",
      "Epoch 47/50\n",
      " 1/28 [>.............................] - ETA: 0s - loss: 0.0048 - mean_squared_error: 0.0048\n",
      "Epoch 47: val_loss did not improve from 0.00537\n",
      "28/28 [==============================] - 0s 3ms/step - loss: 0.0064 - mean_squared_error: 0.0064 - val_loss: 0.0060 - val_mean_squared_error: 0.0060\n",
      "Epoch 48/50\n",
      " 1/28 [>.............................] - ETA: 0s - loss: 0.0044 - mean_squared_error: 0.0044\n",
      "Epoch 48: val_loss did not improve from 0.00537\n",
      "28/28 [==============================] - 0s 3ms/step - loss: 0.0060 - mean_squared_error: 0.0060 - val_loss: 0.0134 - val_mean_squared_error: 0.0134\n",
      "Epoch 49/50\n",
      " 1/28 [>.............................] - ETA: 0s - loss: 0.0106 - mean_squared_error: 0.0106\n",
      "Epoch 49: val_loss improved from 0.00537 to 0.00514, saving model to bestWeigthsPrelim.hdf5\n",
      "28/28 [==============================] - 0s 3ms/step - loss: 0.0065 - mean_squared_error: 0.0065 - val_loss: 0.0051 - val_mean_squared_error: 0.0051\n",
      "Epoch 50/50\n",
      " 1/28 [>.............................] - ETA: 0s - loss: 0.0037 - mean_squared_error: 0.0037\n",
      "Epoch 50: val_loss improved from 0.00514 to 0.00512, saving model to bestWeigthsPrelim.hdf5\n",
      "28/28 [==============================] - 0s 3ms/step - loss: 0.0049 - mean_squared_error: 0.0049 - val_loss: 0.0051 - val_mean_squared_error: 0.0051\n"
     ]
    },
    {
     "data": {
      "text/plain": [
       "<keras.callbacks.History at 0x7fccfd945cd0>"
      ]
     },
     "execution_count": 7,
     "metadata": {},
     "output_type": "execute_result"
    }
   ],
   "source": [
    "model.fit(X_train, y_train, epochs=50, batch_size=64, validation_split = 0.2, callbacks=callbacks_list)"
   ]
  },
  {
   "cell_type": "code",
   "execution_count": 8,
   "metadata": {},
   "outputs": [],
   "source": [
    "bestWeights = 'bestWeigthsPrelim.hdf5' # choose the best checkpoint \n",
    "model.load_weights(bestWeights) # load it\n",
    "model.compile(loss='mean_squared_error', optimizer='adam', metrics=['rmse'])"
   ]
  },
  {
   "cell_type": "code",
   "execution_count": 9,
   "metadata": {},
   "outputs": [],
   "source": [
    "predictions = model.predict(X_test)\n",
    "expected = y_test"
   ]
  },
  {
   "cell_type": "code",
   "execution_count": 10,
   "metadata": {},
   "outputs": [
    {
     "name": "stdout",
     "output_type": "stream",
     "text": [
      "Predicted: 0.473 Expected: 0.558\n",
      "Predicted: 0.481 Expected: 0.389\n",
      "Predicted: 0.567 Expected: 0.519\n",
      "Predicted: 0.472 Expected: 0.549\n",
      "Predicted: 0.595 Expected: 0.519\n",
      "Predicted: 0.485 Expected: 0.414\n",
      "Predicted: 0.491 Expected: 0.457\n",
      "Predicted: 0.508 Expected: 0.438\n",
      "Predicted: 0.375 Expected: 0.444\n",
      "Predicted: 0.416 Expected: 0.411\n"
     ]
    }
   ],
   "source": [
    "for i in range(0, 10):\n",
    "    print(\"Predicted: {0:.3f} Expected: {1:.3f}\".format(predictions[i][0], expected[i]))"
   ]
  },
  {
   "cell_type": "code",
   "execution_count": 11,
   "metadata": {},
   "outputs": [
    {
     "name": "stdout",
     "output_type": "stream",
     "text": [
      "0.054945995365676306\n",
      "0.005032506828900391\n"
     ]
    }
   ],
   "source": [
    "print(mean_absolute_error(expected, predictions))\n",
    "print(mean_squared_error(expected, predictions))"
   ]
  },
  {
   "cell_type": "code",
   "execution_count": 12,
   "metadata": {},
   "outputs": [
    {
     "data": {
      "text/plain": [
       "0.09221114685410817"
      ]
     },
     "execution_count": 12,
     "metadata": {},
     "output_type": "execute_result"
    }
   ],
   "source": [
    "y_train.std()"
   ]
  },
  {
   "cell_type": "code",
   "execution_count": 13,
   "metadata": {},
   "outputs": [
    {
     "name": "stdout",
     "output_type": "stream",
     "text": [
      "8.90125124923956\n"
     ]
    }
   ],
   "source": [
    "print(162 * mean_absolute_error(expected, predictions))"
   ]
  },
  {
   "cell_type": "code",
   "execution_count": null,
   "metadata": {},
   "outputs": [],
   "source": []
  }
 ],
 "metadata": {
  "kernelspec": {
   "display_name": "Python 3",
   "language": "python",
   "name": "python3"
  },
  "language_info": {
   "codemirror_mode": {
    "name": "ipython",
    "version": 3
   },
   "file_extension": ".py",
   "mimetype": "text/x-python",
   "name": "python",
   "nbconvert_exporter": "python",
   "pygments_lexer": "ipython3",
   "version": "3.8.5"
  }
 },
 "nbformat": 4,
 "nbformat_minor": 4
}
